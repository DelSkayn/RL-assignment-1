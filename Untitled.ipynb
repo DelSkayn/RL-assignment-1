{
 "cells": [
  {
   "cell_type": "code",
   "execution_count": 1,
   "metadata": {
    "scrolled": false
   },
   "outputs": [
    {
     "name": "stdout",
     "output_type": "stream",
     "text": [
      "+++ START +++\n",
      "loading players:\n",
      "\tplayers.alpha_beta_rand\n",
      "\tplayers.alpha_beta_dijkstra_4\n",
      "\tplayers.alpha_beta_dijkstra\n",
      "ROUND: 1\n"
     ]
    },
    {
     "name": "stderr",
     "output_type": "stream",
     "text": [
      "[Parallel(n_jobs=-1)]: Using backend LokyBackend with 16 concurrent workers.\n",
      "[Parallel(n_jobs=-1)]: Done   2 out of   9 | elapsed:   27.0s remaining:  1.6min\n",
      "[Parallel(n_jobs=-1)]: Done   3 out of   9 | elapsed:  1.1min remaining:  2.3min\n",
      "[Parallel(n_jobs=-1)]: Done   4 out of   9 | elapsed:  1.4min remaining:  1.7min\n",
      "[Parallel(n_jobs=-1)]: Done   5 out of   9 | elapsed:  2.2min remaining:  1.7min\n",
      "[Parallel(n_jobs=-1)]: Done   6 out of   9 | elapsed:  4.6min remaining:  2.3min\n",
      "[Parallel(n_jobs=-1)]: Done   7 out of   9 | elapsed:  6.5min remaining:  1.9min\n"
     ]
    },
    {
     "name": "stdout",
     "output_type": "stream",
     "text": [
      "ROUND: 2\n"
     ]
    },
    {
     "name": "stderr",
     "output_type": "stream",
     "text": [
      "[Parallel(n_jobs=-1)]: Done   9 out of   9 | elapsed: 11.1min remaining:    0.0s\n",
      "[Parallel(n_jobs=-1)]: Done   9 out of   9 | elapsed: 11.1min finished\n",
      "[Parallel(n_jobs=-1)]: Using backend LokyBackend with 16 concurrent workers.\n",
      "[Parallel(n_jobs=-1)]: Done   2 out of   9 | elapsed:   36.0s remaining:  2.1min\n",
      "[Parallel(n_jobs=-1)]: Done   3 out of   9 | elapsed:   59.2s remaining:  2.0min\n",
      "[Parallel(n_jobs=-1)]: Done   4 out of   9 | elapsed:  1.2min remaining:  1.6min\n",
      "[Parallel(n_jobs=-1)]: Done   5 out of   9 | elapsed:  3.4min remaining:  2.7min\n",
      "[Parallel(n_jobs=-1)]: Done   6 out of   9 | elapsed:  5.2min remaining:  2.6min\n",
      "[Parallel(n_jobs=-1)]: Done   7 out of   9 | elapsed:  5.8min remaining:  1.7min\n"
     ]
    },
    {
     "name": "stdout",
     "output_type": "stream",
     "text": [
      "ROUND: 3\n"
     ]
    },
    {
     "name": "stderr",
     "output_type": "stream",
     "text": [
      "[Parallel(n_jobs=-1)]: Done   9 out of   9 | elapsed:  9.5min remaining:    0.0s\n",
      "[Parallel(n_jobs=-1)]: Done   9 out of   9 | elapsed:  9.5min finished\n",
      "[Parallel(n_jobs=-1)]: Using backend LokyBackend with 16 concurrent workers.\n",
      "[Parallel(n_jobs=-1)]: Done   2 out of   9 | elapsed:   25.9s remaining:  1.5min\n",
      "[Parallel(n_jobs=-1)]: Done   3 out of   9 | elapsed:  1.1min remaining:  2.1min\n",
      "[Parallel(n_jobs=-1)]: Done   4 out of   9 | elapsed:  1.6min remaining:  1.9min\n",
      "[Parallel(n_jobs=-1)]: Done   5 out of   9 | elapsed:  1.9min remaining:  1.5min\n",
      "[Parallel(n_jobs=-1)]: Done   6 out of   9 | elapsed:  6.3min remaining:  3.2min\n",
      "[Parallel(n_jobs=-1)]: Done   7 out of   9 | elapsed:  6.4min remaining:  1.8min\n"
     ]
    },
    {
     "name": "stdout",
     "output_type": "stream",
     "text": [
      "ROUND: 4\n"
     ]
    },
    {
     "name": "stderr",
     "output_type": "stream",
     "text": [
      "[Parallel(n_jobs=-1)]: Done   9 out of   9 | elapsed: 16.2min remaining:    0.0s\n",
      "[Parallel(n_jobs=-1)]: Done   9 out of   9 | elapsed: 16.2min finished\n",
      "[Parallel(n_jobs=-1)]: Using backend LokyBackend with 16 concurrent workers.\n",
      "[Parallel(n_jobs=-1)]: Done   2 out of   9 | elapsed:   35.5s remaining:  2.1min\n",
      "[Parallel(n_jobs=-1)]: Done   3 out of   9 | elapsed:   41.4s remaining:  1.4min\n",
      "[Parallel(n_jobs=-1)]: Done   4 out of   9 | elapsed:  1.3min remaining:  1.7min\n",
      "[Parallel(n_jobs=-1)]: Done   5 out of   9 | elapsed:  3.8min remaining:  3.0min\n",
      "[Parallel(n_jobs=-1)]: Done   6 out of   9 | elapsed:  4.6min remaining:  2.3min\n",
      "[Parallel(n_jobs=-1)]: Done   7 out of   9 | elapsed:  5.2min remaining:  1.5min\n"
     ]
    },
    {
     "name": "stdout",
     "output_type": "stream",
     "text": [
      "ROUND: 5\n"
     ]
    },
    {
     "name": "stderr",
     "output_type": "stream",
     "text": [
      "[Parallel(n_jobs=-1)]: Done   9 out of   9 | elapsed: 10.3min remaining:    0.0s\n",
      "[Parallel(n_jobs=-1)]: Done   9 out of   9 | elapsed: 10.3min finished\n",
      "[Parallel(n_jobs=-1)]: Using backend LokyBackend with 16 concurrent workers.\n",
      "[Parallel(n_jobs=-1)]: Done   2 out of   9 | elapsed:   31.6s remaining:  1.8min\n",
      "[Parallel(n_jobs=-1)]: Done   3 out of   9 | elapsed:   49.1s remaining:  1.6min\n",
      "[Parallel(n_jobs=-1)]: Done   4 out of   9 | elapsed:   51.5s remaining:  1.1min\n",
      "[Parallel(n_jobs=-1)]: Done   5 out of   9 | elapsed:  2.8min remaining:  2.3min\n",
      "[Parallel(n_jobs=-1)]: Done   6 out of   9 | elapsed:  3.1min remaining:  1.6min\n",
      "[Parallel(n_jobs=-1)]: Done   7 out of   9 | elapsed:  4.3min remaining:  1.2min\n"
     ]
    },
    {
     "name": "stdout",
     "output_type": "stream",
     "text": [
      "ROUND: 6\n"
     ]
    },
    {
     "name": "stderr",
     "output_type": "stream",
     "text": [
      "[Parallel(n_jobs=-1)]: Done   9 out of   9 | elapsed:  6.9min remaining:    0.0s\n",
      "[Parallel(n_jobs=-1)]: Done   9 out of   9 | elapsed:  6.9min finished\n",
      "[Parallel(n_jobs=-1)]: Using backend LokyBackend with 16 concurrent workers.\n",
      "[Parallel(n_jobs=-1)]: Done   2 out of   9 | elapsed:   40.8s remaining:  2.4min\n",
      "[Parallel(n_jobs=-1)]: Done   3 out of   9 | elapsed:   54.0s remaining:  1.8min\n",
      "[Parallel(n_jobs=-1)]: Done   4 out of   9 | elapsed:  1.7min remaining:  2.1min\n",
      "[Parallel(n_jobs=-1)]: Done   5 out of   9 | elapsed:  3.8min remaining:  3.0min\n",
      "[Parallel(n_jobs=-1)]: Done   6 out of   9 | elapsed:  4.7min remaining:  2.4min\n",
      "[Parallel(n_jobs=-1)]: Done   7 out of   9 | elapsed:  5.3min remaining:  1.5min\n"
     ]
    },
    {
     "name": "stdout",
     "output_type": "stream",
     "text": [
      "ROUND: 7\n"
     ]
    },
    {
     "name": "stderr",
     "output_type": "stream",
     "text": [
      "[Parallel(n_jobs=-1)]: Done   9 out of   9 | elapsed: 10.5min remaining:    0.0s\n",
      "[Parallel(n_jobs=-1)]: Done   9 out of   9 | elapsed: 10.5min finished\n",
      "[Parallel(n_jobs=-1)]: Using backend LokyBackend with 16 concurrent workers.\n",
      "[Parallel(n_jobs=-1)]: Done   2 out of   9 | elapsed:   52.1s remaining:  3.0min\n",
      "[Parallel(n_jobs=-1)]: Done   3 out of   9 | elapsed:   59.1s remaining:  2.0min\n",
      "[Parallel(n_jobs=-1)]: Done   4 out of   9 | elapsed:  1.4min remaining:  1.8min\n",
      "[Parallel(n_jobs=-1)]: Done   5 out of   9 | elapsed:  3.7min remaining:  2.9min\n",
      "[Parallel(n_jobs=-1)]: Done   6 out of   9 | elapsed:  3.8min remaining:  1.9min\n",
      "[Parallel(n_jobs=-1)]: Done   7 out of   9 | elapsed:  4.3min remaining:  1.2min\n"
     ]
    },
    {
     "name": "stdout",
     "output_type": "stream",
     "text": [
      "ROUND: 8\n"
     ]
    },
    {
     "name": "stderr",
     "output_type": "stream",
     "text": [
      "[Parallel(n_jobs=-1)]: Done   9 out of   9 | elapsed: 10.6min remaining:    0.0s\n",
      "[Parallel(n_jobs=-1)]: Done   9 out of   9 | elapsed: 10.6min finished\n",
      "[Parallel(n_jobs=-1)]: Using backend LokyBackend with 16 concurrent workers.\n",
      "[Parallel(n_jobs=-1)]: Done   2 out of   9 | elapsed:   44.8s remaining:  2.6min\n",
      "[Parallel(n_jobs=-1)]: Done   3 out of   9 | elapsed:  1.1min remaining:  2.2min\n",
      "[Parallel(n_jobs=-1)]: Done   4 out of   9 | elapsed:  1.3min remaining:  1.6min\n",
      "[Parallel(n_jobs=-1)]: Done   5 out of   9 | elapsed:  3.0min remaining:  2.4min\n",
      "[Parallel(n_jobs=-1)]: Done   6 out of   9 | elapsed:  4.6min remaining:  2.3min\n",
      "[Parallel(n_jobs=-1)]: Done   7 out of   9 | elapsed:  5.3min remaining:  1.5min\n"
     ]
    },
    {
     "name": "stdout",
     "output_type": "stream",
     "text": [
      "ROUND: 9\n"
     ]
    },
    {
     "name": "stderr",
     "output_type": "stream",
     "text": [
      "[Parallel(n_jobs=-1)]: Done   9 out of   9 | elapsed:  6.7min remaining:    0.0s\n",
      "[Parallel(n_jobs=-1)]: Done   9 out of   9 | elapsed:  6.7min finished\n",
      "[Parallel(n_jobs=-1)]: Using backend LokyBackend with 16 concurrent workers.\n",
      "[Parallel(n_jobs=-1)]: Done   2 out of   9 | elapsed:   45.9s remaining:  2.7min\n",
      "[Parallel(n_jobs=-1)]: Done   3 out of   9 | elapsed:   53.6s remaining:  1.8min\n",
      "[Parallel(n_jobs=-1)]: Done   4 out of   9 | elapsed:  1.1min remaining:  1.4min\n",
      "[Parallel(n_jobs=-1)]: Done   5 out of   9 | elapsed:  2.3min remaining:  1.9min\n",
      "[Parallel(n_jobs=-1)]: Done   6 out of   9 | elapsed:  4.3min remaining:  2.2min\n",
      "[Parallel(n_jobs=-1)]: Done   7 out of   9 | elapsed:  4.6min remaining:  1.3min\n"
     ]
    },
    {
     "name": "stdout",
     "output_type": "stream",
     "text": [
      "ROUND: 10\n"
     ]
    },
    {
     "name": "stderr",
     "output_type": "stream",
     "text": [
      "[Parallel(n_jobs=-1)]: Done   9 out of   9 | elapsed:  6.8min remaining:    0.0s\n",
      "[Parallel(n_jobs=-1)]: Done   9 out of   9 | elapsed:  6.8min finished\n",
      "[Parallel(n_jobs=-1)]: Using backend LokyBackend with 16 concurrent workers.\n",
      "[Parallel(n_jobs=-1)]: Done   2 out of   9 | elapsed:   48.9s remaining:  2.9min\n",
      "[Parallel(n_jobs=-1)]: Done   3 out of   9 | elapsed:   55.6s remaining:  1.9min\n",
      "[Parallel(n_jobs=-1)]: Done   4 out of   9 | elapsed:  1.1min remaining:  1.3min\n",
      "[Parallel(n_jobs=-1)]: Done   5 out of   9 | elapsed:  2.8min remaining:  2.2min\n",
      "[Parallel(n_jobs=-1)]: Done   6 out of   9 | elapsed:  5.3min remaining:  2.7min\n",
      "[Parallel(n_jobs=-1)]: Done   7 out of   9 | elapsed:  5.6min remaining:  1.6min\n"
     ]
    },
    {
     "name": "stdout",
     "output_type": "stream",
     "text": [
      "ROUND: 11\n"
     ]
    },
    {
     "name": "stderr",
     "output_type": "stream",
     "text": [
      "[Parallel(n_jobs=-1)]: Done   9 out of   9 | elapsed:  7.0min remaining:    0.0s\n",
      "[Parallel(n_jobs=-1)]: Done   9 out of   9 | elapsed:  7.0min finished\n",
      "[Parallel(n_jobs=-1)]: Using backend LokyBackend with 16 concurrent workers.\n",
      "[Parallel(n_jobs=-1)]: Done   2 out of   9 | elapsed:   48.9s remaining:  2.9min\n",
      "[Parallel(n_jobs=-1)]: Done   3 out of   9 | elapsed:  1.1min remaining:  2.2min\n",
      "[Parallel(n_jobs=-1)]: Done   4 out of   9 | elapsed:  1.4min remaining:  1.7min\n",
      "[Parallel(n_jobs=-1)]: Done   5 out of   9 | elapsed:  2.1min remaining:  1.6min\n",
      "[Parallel(n_jobs=-1)]: Done   6 out of   9 | elapsed:  3.7min remaining:  1.8min\n",
      "[Parallel(n_jobs=-1)]: Done   7 out of   9 | elapsed:  5.3min remaining:  1.5min\n"
     ]
    },
    {
     "name": "stdout",
     "output_type": "stream",
     "text": [
      "ROUND: 12\n"
     ]
    },
    {
     "name": "stderr",
     "output_type": "stream",
     "text": [
      "[Parallel(n_jobs=-1)]: Done   9 out of   9 | elapsed:  8.7min remaining:    0.0s\n",
      "[Parallel(n_jobs=-1)]: Done   9 out of   9 | elapsed:  8.7min finished\n",
      "[Parallel(n_jobs=-1)]: Using backend LokyBackend with 16 concurrent workers.\n",
      "[Parallel(n_jobs=-1)]: Done   2 out of   9 | elapsed:   54.7s remaining:  3.2min\n",
      "[Parallel(n_jobs=-1)]: Done   3 out of   9 | elapsed:  1.1min remaining:  2.2min\n",
      "[Parallel(n_jobs=-1)]: Done   4 out of   9 | elapsed:  1.4min remaining:  1.8min\n",
      "[Parallel(n_jobs=-1)]: Done   5 out of   9 | elapsed:  4.3min remaining:  3.4min\n",
      "[Parallel(n_jobs=-1)]: Done   6 out of   9 | elapsed:  4.8min remaining:  2.4min\n",
      "[Parallel(n_jobs=-1)]: Done   7 out of   9 | elapsed:  5.3min remaining:  1.5min\n"
     ]
    },
    {
     "name": "stdout",
     "output_type": "stream",
     "text": [
      "ROUND: 13\n"
     ]
    },
    {
     "name": "stderr",
     "output_type": "stream",
     "text": [
      "[Parallel(n_jobs=-1)]: Done   9 out of   9 | elapsed:  8.4min remaining:    0.0s\n",
      "[Parallel(n_jobs=-1)]: Done   9 out of   9 | elapsed:  8.4min finished\n",
      "[Parallel(n_jobs=-1)]: Using backend LokyBackend with 16 concurrent workers.\n",
      "[Parallel(n_jobs=-1)]: Done   2 out of   9 | elapsed:   46.8s remaining:  2.7min\n",
      "[Parallel(n_jobs=-1)]: Done   3 out of   9 | elapsed:   47.4s remaining:  1.6min\n",
      "[Parallel(n_jobs=-1)]: Done   4 out of   9 | elapsed:  2.1min remaining:  2.6min\n",
      "[Parallel(n_jobs=-1)]: Done   5 out of   9 | elapsed:  3.4min remaining:  2.7min\n",
      "[Parallel(n_jobs=-1)]: Done   6 out of   9 | elapsed:  3.6min remaining:  1.8min\n",
      "[Parallel(n_jobs=-1)]: Done   7 out of   9 | elapsed:  5.9min remaining:  1.7min\n"
     ]
    },
    {
     "name": "stdout",
     "output_type": "stream",
     "text": [
      "ROUND: 14\n"
     ]
    },
    {
     "name": "stderr",
     "output_type": "stream",
     "text": [
      "[Parallel(n_jobs=-1)]: Done   9 out of   9 | elapsed:  9.8min remaining:    0.0s\n",
      "[Parallel(n_jobs=-1)]: Done   9 out of   9 | elapsed:  9.8min finished\n",
      "[Parallel(n_jobs=-1)]: Using backend LokyBackend with 16 concurrent workers.\n",
      "[Parallel(n_jobs=-1)]: Done   2 out of   9 | elapsed:   37.0s remaining:  2.2min\n",
      "[Parallel(n_jobs=-1)]: Done   3 out of   9 | elapsed:  1.1min remaining:  2.3min\n",
      "[Parallel(n_jobs=-1)]: Done   4 out of   9 | elapsed:  1.3min remaining:  1.6min\n",
      "[Parallel(n_jobs=-1)]: Done   5 out of   9 | elapsed:  4.1min remaining:  3.3min\n",
      "[Parallel(n_jobs=-1)]: Done   6 out of   9 | elapsed:  5.6min remaining:  2.8min\n",
      "[Parallel(n_jobs=-1)]: Done   7 out of   9 | elapsed:  5.9min remaining:  1.7min\n"
     ]
    },
    {
     "name": "stdout",
     "output_type": "stream",
     "text": [
      "ROUND: 15\n"
     ]
    },
    {
     "name": "stderr",
     "output_type": "stream",
     "text": [
      "[Parallel(n_jobs=-1)]: Done   9 out of   9 | elapsed:  8.4min remaining:    0.0s\n",
      "[Parallel(n_jobs=-1)]: Done   9 out of   9 | elapsed:  8.4min finished\n",
      "[Parallel(n_jobs=-1)]: Using backend LokyBackend with 16 concurrent workers.\n",
      "[Parallel(n_jobs=-1)]: Done   2 out of   9 | elapsed:   41.0s remaining:  2.4min\n",
      "[Parallel(n_jobs=-1)]: Done   3 out of   9 | elapsed:   45.4s remaining:  1.5min\n",
      "[Parallel(n_jobs=-1)]: Done   4 out of   9 | elapsed:  1.9min remaining:  2.3min\n",
      "[Parallel(n_jobs=-1)]: Done   5 out of   9 | elapsed:  3.1min remaining:  2.5min\n",
      "[Parallel(n_jobs=-1)]: Done   6 out of   9 | elapsed:  3.5min remaining:  1.7min\n",
      "[Parallel(n_jobs=-1)]: Done   7 out of   9 | elapsed:  7.3min remaining:  2.1min\n"
     ]
    },
    {
     "name": "stdout",
     "output_type": "stream",
     "text": [
      "ROUND: 16\n"
     ]
    },
    {
     "name": "stderr",
     "output_type": "stream",
     "text": [
      "[Parallel(n_jobs=-1)]: Done   9 out of   9 | elapsed: 23.4min remaining:    0.0s\n",
      "[Parallel(n_jobs=-1)]: Done   9 out of   9 | elapsed: 23.4min finished\n",
      "[Parallel(n_jobs=-1)]: Using backend LokyBackend with 16 concurrent workers.\n",
      "[Parallel(n_jobs=-1)]: Done   2 out of   9 | elapsed:   32.8s remaining:  1.9min\n",
      "[Parallel(n_jobs=-1)]: Done   3 out of   9 | elapsed:  1.0min remaining:  2.0min\n",
      "[Parallel(n_jobs=-1)]: Done   4 out of   9 | elapsed:  1.1min remaining:  1.4min\n",
      "[Parallel(n_jobs=-1)]: Done   5 out of   9 | elapsed:  2.6min remaining:  2.1min\n",
      "[Parallel(n_jobs=-1)]: Done   6 out of   9 | elapsed:  4.4min remaining:  2.2min\n",
      "[Parallel(n_jobs=-1)]: Done   7 out of   9 | elapsed:  5.9min remaining:  1.7min\n"
     ]
    },
    {
     "name": "stdout",
     "output_type": "stream",
     "text": [
      "ROUND: 17\n"
     ]
    },
    {
     "name": "stderr",
     "output_type": "stream",
     "text": [
      "[Parallel(n_jobs=-1)]: Done   9 out of   9 | elapsed:  6.9min remaining:    0.0s\n",
      "[Parallel(n_jobs=-1)]: Done   9 out of   9 | elapsed:  6.9min finished\n",
      "[Parallel(n_jobs=-1)]: Using backend LokyBackend with 16 concurrent workers.\n",
      "[Parallel(n_jobs=-1)]: Done   2 out of   9 | elapsed:   43.8s remaining:  2.6min\n",
      "[Parallel(n_jobs=-1)]: Done   3 out of   9 | elapsed:  1.3min remaining:  2.6min\n",
      "[Parallel(n_jobs=-1)]: Done   4 out of   9 | elapsed:  2.4min remaining:  3.0min\n",
      "[Parallel(n_jobs=-1)]: Done   5 out of   9 | elapsed:  4.2min remaining:  3.4min\n",
      "[Parallel(n_jobs=-1)]: Done   6 out of   9 | elapsed:  4.3min remaining:  2.1min\n",
      "[Parallel(n_jobs=-1)]: Done   7 out of   9 | elapsed:  7.0min remaining:  2.0min\n"
     ]
    },
    {
     "name": "stdout",
     "output_type": "stream",
     "text": [
      "ROUND: 18\n"
     ]
    },
    {
     "name": "stderr",
     "output_type": "stream",
     "text": [
      "[Parallel(n_jobs=-1)]: Done   9 out of   9 | elapsed:  9.1min remaining:    0.0s\n",
      "[Parallel(n_jobs=-1)]: Done   9 out of   9 | elapsed:  9.1min finished\n",
      "[Parallel(n_jobs=-1)]: Using backend LokyBackend with 16 concurrent workers.\n",
      "[Parallel(n_jobs=-1)]: Done   2 out of   9 | elapsed:   29.6s remaining:  1.7min\n",
      "[Parallel(n_jobs=-1)]: Done   3 out of   9 | elapsed:   41.2s remaining:  1.4min\n",
      "[Parallel(n_jobs=-1)]: Done   4 out of   9 | elapsed:  1.4min remaining:  1.7min\n",
      "[Parallel(n_jobs=-1)]: Done   5 out of   9 | elapsed:  2.7min remaining:  2.2min\n",
      "[Parallel(n_jobs=-1)]: Done   6 out of   9 | elapsed:  2.8min remaining:  1.4min\n",
      "[Parallel(n_jobs=-1)]: Done   7 out of   9 | elapsed:  4.6min remaining:  1.3min\n"
     ]
    },
    {
     "name": "stdout",
     "output_type": "stream",
     "text": [
      "ROUND: 19\n"
     ]
    },
    {
     "name": "stderr",
     "output_type": "stream",
     "text": [
      "[Parallel(n_jobs=-1)]: Done   9 out of   9 | elapsed:  8.3min remaining:    0.0s\n",
      "[Parallel(n_jobs=-1)]: Done   9 out of   9 | elapsed:  8.3min finished\n",
      "[Parallel(n_jobs=-1)]: Using backend LokyBackend with 16 concurrent workers.\n",
      "[Parallel(n_jobs=-1)]: Done   2 out of   9 | elapsed:   37.4s remaining:  2.2min\n",
      "[Parallel(n_jobs=-1)]: Done   3 out of   9 | elapsed:  1.2min remaining:  2.4min\n",
      "[Parallel(n_jobs=-1)]: Done   4 out of   9 | elapsed:  1.3min remaining:  1.6min\n",
      "[Parallel(n_jobs=-1)]: Done   5 out of   9 | elapsed:  3.1min remaining:  2.5min\n",
      "[Parallel(n_jobs=-1)]: Done   6 out of   9 | elapsed:  5.4min remaining:  2.7min\n",
      "[Parallel(n_jobs=-1)]: Done   7 out of   9 | elapsed:  6.0min remaining:  1.7min\n"
     ]
    },
    {
     "name": "stdout",
     "output_type": "stream",
     "text": [
      "ROUND: 20\n"
     ]
    },
    {
     "name": "stderr",
     "output_type": "stream",
     "text": [
      "[Parallel(n_jobs=-1)]: Done   9 out of   9 | elapsed:  7.8min remaining:    0.0s\n",
      "[Parallel(n_jobs=-1)]: Done   9 out of   9 | elapsed:  7.8min finished\n",
      "[Parallel(n_jobs=-1)]: Using backend LokyBackend with 16 concurrent workers.\n",
      "[Parallel(n_jobs=-1)]: Done   2 out of   9 | elapsed:   35.0s remaining:  2.0min\n",
      "[Parallel(n_jobs=-1)]: Done   3 out of   9 | elapsed:  1.0min remaining:  2.1min\n",
      "[Parallel(n_jobs=-1)]: Done   4 out of   9 | elapsed:  2.1min remaining:  2.6min\n",
      "[Parallel(n_jobs=-1)]: Done   5 out of   9 | elapsed:  3.9min remaining:  3.1min\n",
      "[Parallel(n_jobs=-1)]: Done   6 out of   9 | elapsed:  3.9min remaining:  2.0min\n",
      "[Parallel(n_jobs=-1)]: Done   7 out of   9 | elapsed:  5.1min remaining:  1.4min\n"
     ]
    },
    {
     "name": "stdout",
     "output_type": "stream",
     "text": [
      "ROUND: 21\n"
     ]
    },
    {
     "name": "stderr",
     "output_type": "stream",
     "text": [
      "[Parallel(n_jobs=-1)]: Done   9 out of   9 | elapsed:  7.5min remaining:    0.0s\n",
      "[Parallel(n_jobs=-1)]: Done   9 out of   9 | elapsed:  7.5min finished\n",
      "[Parallel(n_jobs=-1)]: Using backend LokyBackend with 16 concurrent workers.\n",
      "[Parallel(n_jobs=-1)]: Done   2 out of   9 | elapsed:    2.4s remaining:    8.3s\n",
      "[Parallel(n_jobs=-1)]: Done   3 out of   9 | elapsed:    2.4s remaining:    4.8s\n",
      "[Parallel(n_jobs=-1)]: Done   4 out of   9 | elapsed:    2.4s remaining:    3.0s\n",
      "[Parallel(n_jobs=-1)]: Done   5 out of   9 | elapsed:    2.4s remaining:    1.9s\n",
      "[Parallel(n_jobs=-1)]: Done   6 out of   9 | elapsed:    2.4s remaining:    1.2s\n",
      "[Parallel(n_jobs=-1)]: Done   7 out of   9 | elapsed:    2.4s remaining:    0.7s\n",
      "[Parallel(n_jobs=-1)]: Done   9 out of   9 | elapsed:    2.4s remaining:    0.0s\n"
     ]
    },
    {
     "ename": "KeyboardInterrupt",
     "evalue": "",
     "output_type": "error",
     "traceback": [
      "\u001b[0;31m---------------------------------------------------------------------------\u001b[0m",
      "\u001b[0;31mKeyboardInterrupt\u001b[0m                         Traceback (most recent call last)",
      "\u001b[0;32m<ipython-input-1-d501bb469495>\u001b[0m in \u001b[0;36m<module>\u001b[0;34m\u001b[0m\n\u001b[1;32m    145\u001b[0m         \u001b[0;32mfor\u001b[0m \u001b[0mi\u001b[0m \u001b[0;32min\u001b[0m \u001b[0mrange\u001b[0m\u001b[0;34m(\u001b[0m\u001b[0;36m40\u001b[0m\u001b[0;34m)\u001b[0m\u001b[0;34m:\u001b[0m\u001b[0;34m\u001b[0m\u001b[0;34m\u001b[0m\u001b[0m\n\u001b[1;32m    146\u001b[0m             \u001b[0mprint\u001b[0m\u001b[0;34m(\u001b[0m\u001b[0;34m\"ROUND: \"\u001b[0m \u001b[0;34m+\u001b[0m \u001b[0mstr\u001b[0m\u001b[0;34m(\u001b[0m\u001b[0mi\u001b[0m \u001b[0;34m+\u001b[0m \u001b[0;36m1\u001b[0m\u001b[0;34m)\u001b[0m\u001b[0;34m)\u001b[0m\u001b[0;34m\u001b[0m\u001b[0;34m\u001b[0m\u001b[0m\n\u001b[0;32m--> 147\u001b[0;31m             \u001b[0mtournament\u001b[0m\u001b[0;34m.\u001b[0m\u001b[0mplay_round\u001b[0m\u001b[0;34m(\u001b[0m\u001b[0mpar\u001b[0m\u001b[0;34m)\u001b[0m\u001b[0;34m\u001b[0m\u001b[0;34m\u001b[0m\u001b[0m\n\u001b[0m\u001b[1;32m    148\u001b[0m     \u001b[0mtournament\u001b[0m\u001b[0;34m.\u001b[0m\u001b[0mprint_elo\u001b[0m\u001b[0;34m(\u001b[0m\u001b[0;34m)\u001b[0m\u001b[0;34m\u001b[0m\u001b[0;34m\u001b[0m\u001b[0m\n\u001b[1;32m    149\u001b[0m     \u001b[0mtournament\u001b[0m\u001b[0;34m.\u001b[0m\u001b[0mshow_scores\u001b[0m\u001b[0;34m(\u001b[0m\u001b[0;34m)\u001b[0m\u001b[0;34m\u001b[0m\u001b[0;34m\u001b[0m\u001b[0m\n",
      "\u001b[0;32m<ipython-input-1-d501bb469495>\u001b[0m in \u001b[0;36mplay_round\u001b[0;34m(self, par)\u001b[0m\n\u001b[1;32m     87\u001b[0m \u001b[0;34m\u001b[0m\u001b[0m\n\u001b[1;32m     88\u001b[0m         \u001b[0ml\u001b[0m \u001b[0;34m=\u001b[0m \u001b[0mlen\u001b[0m\u001b[0;34m(\u001b[0m\u001b[0mself\u001b[0m\u001b[0;34m.\u001b[0m\u001b[0mplayers\u001b[0m\u001b[0;34m)\u001b[0m\u001b[0;34m\u001b[0m\u001b[0;34m\u001b[0m\u001b[0m\n\u001b[0;32m---> 89\u001b[0;31m         \u001b[0mwins\u001b[0m \u001b[0;34m=\u001b[0m \u001b[0mpar\u001b[0m\u001b[0;34m(\u001b[0m\u001b[0mdelayed\u001b[0m\u001b[0;34m(\u001b[0m\u001b[0mself\u001b[0m\u001b[0;34m.\u001b[0m\u001b[0mrun_match\u001b[0m\u001b[0;34m)\u001b[0m\u001b[0;34m(\u001b[0m\u001b[0mi\u001b[0m\u001b[0;34m,\u001b[0m\u001b[0mj\u001b[0m\u001b[0;34m)\u001b[0m \u001b[0;32mfor\u001b[0m \u001b[0mi\u001b[0m \u001b[0;32min\u001b[0m \u001b[0mrange\u001b[0m\u001b[0;34m(\u001b[0m\u001b[0ml\u001b[0m\u001b[0;34m)\u001b[0m \u001b[0;32mfor\u001b[0m \u001b[0mj\u001b[0m \u001b[0;32min\u001b[0m \u001b[0mrange\u001b[0m\u001b[0;34m(\u001b[0m\u001b[0ml\u001b[0m\u001b[0;34m)\u001b[0m\u001b[0;34m)\u001b[0m\u001b[0;34m\u001b[0m\u001b[0;34m\u001b[0m\u001b[0m\n\u001b[0m\u001b[1;32m     90\u001b[0m         \u001b[0;32mfor\u001b[0m \u001b[0mblue_won\u001b[0m\u001b[0;34m,\u001b[0m \u001b[0mblue\u001b[0m\u001b[0;34m,\u001b[0m\u001b[0mred\u001b[0m \u001b[0;32min\u001b[0m \u001b[0mwins\u001b[0m\u001b[0;34m:\u001b[0m\u001b[0;34m\u001b[0m\u001b[0;34m\u001b[0m\u001b[0m\n\u001b[1;32m     91\u001b[0m             \u001b[0mself\u001b[0m\u001b[0;34m.\u001b[0m\u001b[0mprocess_winner\u001b[0m\u001b[0;34m(\u001b[0m\u001b[0mblue_won\u001b[0m\u001b[0;34m,\u001b[0m\u001b[0mblue\u001b[0m\u001b[0;34m,\u001b[0m\u001b[0mred\u001b[0m\u001b[0;34m)\u001b[0m\u001b[0;34m\u001b[0m\u001b[0;34m\u001b[0m\u001b[0m\n",
      "\u001b[0;32m~/Documents/uni/RL/RL-assignment-1/env/lib/python3.8/site-packages/joblib/parallel.py\u001b[0m in \u001b[0;36m__call__\u001b[0;34m(self, iterable)\u001b[0m\n\u001b[1;32m   1015\u001b[0m \u001b[0;34m\u001b[0m\u001b[0m\n\u001b[1;32m   1016\u001b[0m             \u001b[0;32mwith\u001b[0m \u001b[0mself\u001b[0m\u001b[0;34m.\u001b[0m\u001b[0m_backend\u001b[0m\u001b[0;34m.\u001b[0m\u001b[0mretrieval_context\u001b[0m\u001b[0;34m(\u001b[0m\u001b[0;34m)\u001b[0m\u001b[0;34m:\u001b[0m\u001b[0;34m\u001b[0m\u001b[0;34m\u001b[0m\u001b[0m\n\u001b[0;32m-> 1017\u001b[0;31m                 \u001b[0mself\u001b[0m\u001b[0;34m.\u001b[0m\u001b[0mretrieve\u001b[0m\u001b[0;34m(\u001b[0m\u001b[0;34m)\u001b[0m\u001b[0;34m\u001b[0m\u001b[0;34m\u001b[0m\u001b[0m\n\u001b[0m\u001b[1;32m   1018\u001b[0m             \u001b[0;31m# Make sure that we get a last message telling us we are done\u001b[0m\u001b[0;34m\u001b[0m\u001b[0;34m\u001b[0m\u001b[0;34m\u001b[0m\u001b[0m\n\u001b[1;32m   1019\u001b[0m             \u001b[0melapsed_time\u001b[0m \u001b[0;34m=\u001b[0m \u001b[0mtime\u001b[0m\u001b[0;34m.\u001b[0m\u001b[0mtime\u001b[0m\u001b[0;34m(\u001b[0m\u001b[0;34m)\u001b[0m \u001b[0;34m-\u001b[0m \u001b[0mself\u001b[0m\u001b[0;34m.\u001b[0m\u001b[0m_start_time\u001b[0m\u001b[0;34m\u001b[0m\u001b[0;34m\u001b[0m\u001b[0m\n",
      "\u001b[0;32m~/Documents/uni/RL/RL-assignment-1/env/lib/python3.8/site-packages/joblib/parallel.py\u001b[0m in \u001b[0;36mretrieve\u001b[0;34m(self)\u001b[0m\n\u001b[1;32m    907\u001b[0m             \u001b[0;32mtry\u001b[0m\u001b[0;34m:\u001b[0m\u001b[0;34m\u001b[0m\u001b[0;34m\u001b[0m\u001b[0m\n\u001b[1;32m    908\u001b[0m                 \u001b[0;32mif\u001b[0m \u001b[0mgetattr\u001b[0m\u001b[0;34m(\u001b[0m\u001b[0mself\u001b[0m\u001b[0;34m.\u001b[0m\u001b[0m_backend\u001b[0m\u001b[0;34m,\u001b[0m \u001b[0;34m'supports_timeout'\u001b[0m\u001b[0;34m,\u001b[0m \u001b[0;32mFalse\u001b[0m\u001b[0;34m)\u001b[0m\u001b[0;34m:\u001b[0m\u001b[0;34m\u001b[0m\u001b[0;34m\u001b[0m\u001b[0m\n\u001b[0;32m--> 909\u001b[0;31m                     \u001b[0mself\u001b[0m\u001b[0;34m.\u001b[0m\u001b[0m_output\u001b[0m\u001b[0;34m.\u001b[0m\u001b[0mextend\u001b[0m\u001b[0;34m(\u001b[0m\u001b[0mjob\u001b[0m\u001b[0;34m.\u001b[0m\u001b[0mget\u001b[0m\u001b[0;34m(\u001b[0m\u001b[0mtimeout\u001b[0m\u001b[0;34m=\u001b[0m\u001b[0mself\u001b[0m\u001b[0;34m.\u001b[0m\u001b[0mtimeout\u001b[0m\u001b[0;34m)\u001b[0m\u001b[0;34m)\u001b[0m\u001b[0;34m\u001b[0m\u001b[0;34m\u001b[0m\u001b[0m\n\u001b[0m\u001b[1;32m    910\u001b[0m                 \u001b[0;32melse\u001b[0m\u001b[0;34m:\u001b[0m\u001b[0;34m\u001b[0m\u001b[0;34m\u001b[0m\u001b[0m\n\u001b[1;32m    911\u001b[0m                     \u001b[0mself\u001b[0m\u001b[0;34m.\u001b[0m\u001b[0m_output\u001b[0m\u001b[0;34m.\u001b[0m\u001b[0mextend\u001b[0m\u001b[0;34m(\u001b[0m\u001b[0mjob\u001b[0m\u001b[0;34m.\u001b[0m\u001b[0mget\u001b[0m\u001b[0;34m(\u001b[0m\u001b[0;34m)\u001b[0m\u001b[0;34m)\u001b[0m\u001b[0;34m\u001b[0m\u001b[0;34m\u001b[0m\u001b[0m\n",
      "\u001b[0;32m~/Documents/uni/RL/RL-assignment-1/env/lib/python3.8/site-packages/joblib/_parallel_backends.py\u001b[0m in \u001b[0;36mwrap_future_result\u001b[0;34m(future, timeout)\u001b[0m\n\u001b[1;32m    560\u001b[0m         AsyncResults.get from multiprocessing.\"\"\"\n\u001b[1;32m    561\u001b[0m         \u001b[0;32mtry\u001b[0m\u001b[0;34m:\u001b[0m\u001b[0;34m\u001b[0m\u001b[0;34m\u001b[0m\u001b[0m\n\u001b[0;32m--> 562\u001b[0;31m             \u001b[0;32mreturn\u001b[0m \u001b[0mfuture\u001b[0m\u001b[0;34m.\u001b[0m\u001b[0mresult\u001b[0m\u001b[0;34m(\u001b[0m\u001b[0mtimeout\u001b[0m\u001b[0;34m=\u001b[0m\u001b[0mtimeout\u001b[0m\u001b[0;34m)\u001b[0m\u001b[0;34m\u001b[0m\u001b[0;34m\u001b[0m\u001b[0m\n\u001b[0m\u001b[1;32m    563\u001b[0m         \u001b[0;32mexcept\u001b[0m \u001b[0mLokyTimeoutError\u001b[0m\u001b[0;34m:\u001b[0m\u001b[0;34m\u001b[0m\u001b[0;34m\u001b[0m\u001b[0m\n\u001b[1;32m    564\u001b[0m             \u001b[0;32mraise\u001b[0m \u001b[0mTimeoutError\u001b[0m\u001b[0;34m(\u001b[0m\u001b[0;34m)\u001b[0m\u001b[0;34m\u001b[0m\u001b[0;34m\u001b[0m\u001b[0m\n",
      "\u001b[0;32m/usr/lib64/python3.8/concurrent/futures/_base.py\u001b[0m in \u001b[0;36mresult\u001b[0;34m(self, timeout)\u001b[0m\n\u001b[1;32m    432\u001b[0m                 \u001b[0;32mreturn\u001b[0m \u001b[0mself\u001b[0m\u001b[0;34m.\u001b[0m\u001b[0m__get_result\u001b[0m\u001b[0;34m(\u001b[0m\u001b[0;34m)\u001b[0m\u001b[0;34m\u001b[0m\u001b[0;34m\u001b[0m\u001b[0m\n\u001b[1;32m    433\u001b[0m \u001b[0;34m\u001b[0m\u001b[0m\n\u001b[0;32m--> 434\u001b[0;31m             \u001b[0mself\u001b[0m\u001b[0;34m.\u001b[0m\u001b[0m_condition\u001b[0m\u001b[0;34m.\u001b[0m\u001b[0mwait\u001b[0m\u001b[0;34m(\u001b[0m\u001b[0mtimeout\u001b[0m\u001b[0;34m)\u001b[0m\u001b[0;34m\u001b[0m\u001b[0;34m\u001b[0m\u001b[0m\n\u001b[0m\u001b[1;32m    435\u001b[0m \u001b[0;34m\u001b[0m\u001b[0m\n\u001b[1;32m    436\u001b[0m             \u001b[0;32mif\u001b[0m \u001b[0mself\u001b[0m\u001b[0;34m.\u001b[0m\u001b[0m_state\u001b[0m \u001b[0;32min\u001b[0m \u001b[0;34m[\u001b[0m\u001b[0mCANCELLED\u001b[0m\u001b[0;34m,\u001b[0m \u001b[0mCANCELLED_AND_NOTIFIED\u001b[0m\u001b[0;34m]\u001b[0m\u001b[0;34m:\u001b[0m\u001b[0;34m\u001b[0m\u001b[0;34m\u001b[0m\u001b[0m\n",
      "\u001b[0;32m/usr/lib64/python3.8/threading.py\u001b[0m in \u001b[0;36mwait\u001b[0;34m(self, timeout)\u001b[0m\n\u001b[1;32m    300\u001b[0m         \u001b[0;32mtry\u001b[0m\u001b[0;34m:\u001b[0m    \u001b[0;31m# restore state no matter what (e.g., KeyboardInterrupt)\u001b[0m\u001b[0;34m\u001b[0m\u001b[0;34m\u001b[0m\u001b[0m\n\u001b[1;32m    301\u001b[0m             \u001b[0;32mif\u001b[0m \u001b[0mtimeout\u001b[0m \u001b[0;32mis\u001b[0m \u001b[0;32mNone\u001b[0m\u001b[0;34m:\u001b[0m\u001b[0;34m\u001b[0m\u001b[0;34m\u001b[0m\u001b[0m\n\u001b[0;32m--> 302\u001b[0;31m                 \u001b[0mwaiter\u001b[0m\u001b[0;34m.\u001b[0m\u001b[0macquire\u001b[0m\u001b[0;34m(\u001b[0m\u001b[0;34m)\u001b[0m\u001b[0;34m\u001b[0m\u001b[0;34m\u001b[0m\u001b[0m\n\u001b[0m\u001b[1;32m    303\u001b[0m                 \u001b[0mgotit\u001b[0m \u001b[0;34m=\u001b[0m \u001b[0;32mTrue\u001b[0m\u001b[0;34m\u001b[0m\u001b[0;34m\u001b[0m\u001b[0m\n\u001b[1;32m    304\u001b[0m             \u001b[0;32melse\u001b[0m\u001b[0;34m:\u001b[0m\u001b[0;34m\u001b[0m\u001b[0;34m\u001b[0m\u001b[0m\n",
      "\u001b[0;31mKeyboardInterrupt\u001b[0m: "
     ]
    }
   ],
   "source": [
    "import glob\n",
    "import numpy as np\n",
    "import importlib\n",
    "from hex_skeleton import HexBoard\n",
    "#from player import Player\n",
    "from trueskill import Rating, rate_1vs1\n",
    "from joblib import Parallel, delayed\n",
    "import matplotlib.pyplot as plt\n",
    "\n",
    "\n",
    "class Tournament:\n",
    "    def __init__(self,board_size,seed):\n",
    "        self.size = board_size;\n",
    "        self.board = None\n",
    "        self.players = []\n",
    "        self.rounds_played = 0\n",
    "        self.player_ratings = []\n",
    "        \n",
    "\n",
    "        print(\"loading players:\")\n",
    "        player_mods = glob.glob(\"players/*.py\")\n",
    "        for mod in player_mods:\n",
    "            mod = mod.replace(\"/\",\".\")[:-3]\n",
    "            module = importlib.import_module(mod)\n",
    "            if hasattr(module,'export'):\n",
    "                print('\\t' + mod)\n",
    "                self.players.append(module.export)\n",
    "\n",
    "\n",
    "        self.rounds = 0\n",
    "        self.match_scores = np.zeros((len(self.players), len(self.players)))\n",
    "\n",
    "        self.b_scores = []\n",
    "        self.r_scores = []\n",
    "        self.mixed_scores = []\n",
    "        for i in range(0, len(self.players)):\n",
    "            self.b_scores.append(Rating())\n",
    "            self.r_scores.append(Rating())\n",
    "            rat = Rating()\n",
    "            self.player_ratings.append([rat.mu])\n",
    "            self.mixed_scores.append(rat)\n",
    "\n",
    "        self.seed = seed\n",
    "\n",
    "    def run_match(self,blue,red):\n",
    "        b = self.players[blue](self.size,HexBoard.BLUE,self.seed)\n",
    "        r = self.players[red](self.size,HexBoard.RED,self.seed)\n",
    "        print(self.players[blue].name(), \"VS\", self.players[red].name())\n",
    "        board = HexBoard(self.size)\n",
    "\n",
    "        blue_turn = True;\n",
    "        while not board.is_game_over():\n",
    "            if blue_turn:\n",
    "                b.make_move(board)\n",
    "            else:\n",
    "                r.make_move(board)\n",
    "            blue_turn = not blue_turn\n",
    "\n",
    "        return not blue_turn, blue,red\n",
    "\n",
    "\n",
    "    def process_winner(self,blue_won, blue, red):\n",
    "        if blue_won:\n",
    "            b,r = rate_1vs1(self.b_scores[blue],self.r_scores[red])\n",
    "            self.b_scores[blue] = b\n",
    "            self.r_scores[red] = r\n",
    "            if blue != red:\n",
    "                # Dont rate if playing against once self.\n",
    "                a,b = rate_1vs1(self.mixed_scores[blue], self.mixed_scores[red])\n",
    "                self.mixed_scores[blue] = a\n",
    "                self.mixed_scores[red] = b\n",
    "            self.match_scores[blue][red] += 1\n",
    "        else:\n",
    "            # RED won because it made the wining moves\n",
    "            r,b = rate_1vs1(self.r_scores[red],self.b_scores[blue])\n",
    "            self.r_scores[red] = r\n",
    "            self.r_scores[blue] = b\n",
    "            if blue != red:\n",
    "                # Dont rate if playing against once self.\n",
    "                a,b = rate_1vs1(self.mixed_scores[red], self.mixed_scores[blue])\n",
    "                self.mixed_scores[red] = a\n",
    "                self.mixed_scores[blue] = b\n",
    "\n",
    "\n",
    "    def play_round(self,par):\n",
    "        self.seed += 1\n",
    "\n",
    "        l = len(self.players)\n",
    "        wins = par(delayed(self.run_match)(i,j) for i in range(l) for j in range(l))\n",
    "        for blue_won, blue,red in wins:\n",
    "            self.process_winner(blue_won,blue,red)\n",
    "            self.player_ratings[blue].append(self.mixed_scores[blue].mu)\n",
    "            self.player_ratings[red].append(self.mixed_scores[red].mu)\n",
    "        self.rounds_played += 1\n",
    "\n",
    "\n",
    "    def print_scores(self):\n",
    "        for i in range(len(self.players)):\n",
    "            for j in range(len(self.players)):\n",
    "                print(str(self.match_scores[i][j]) + \" \",end='')\n",
    "            print()\n",
    "            \n",
    "    def show_scores(self):\n",
    "        names = np.array(list(map(lambda x: x.name(), self.players)))\n",
    "        order = np.argsort(self.mixed_scores)\n",
    "        names = names[order]\n",
    "        match_scores = self.match_scores[order] / self.rounds_played\n",
    "        for i in range(len(match_scores)):\n",
    "            match_scores[i] = match_scores[i][order]\n",
    "        fig, ax = plt.subplots()\n",
    "        ax.imshow(match_scores)\n",
    "        ax.set_xticks(np.arange(len(names)))\n",
    "        ax.set_yticks(np.arange(len(names)))\n",
    "        ax.set_xticklabels(names)\n",
    "        ax.set_yticklabels(names)\n",
    "        ax.xaxis.tick_top()\n",
    "        plt.setp(ax.get_xticklabels(), rotation=-45, ha=\"right\", rotation_mode=\"anchor\")\n",
    "\n",
    "        for i in range(len(names)):\n",
    "            for j in range(len(names)):\n",
    "                ax.text(j,i, match_scores[i,j], ha=\"center\", va=\"center\", color=\"w\")\n",
    "\n",
    "        fig.tight_layout()\n",
    "        plt.show()\n",
    "\n",
    "    def print_elo(self):\n",
    "        print(\"Mixed scores:\")\n",
    "        for i in range(len(self.mixed_scores)):\n",
    "            print(self.players[i].name() + \" \" + str(self.mixed_scores[i]))\n",
    "        print()\n",
    "        print(\"Blue scores:\")\n",
    "        for i in range(len(self.b_scores)):\n",
    "            print(self.players[i].name() + \" \" + str(self.b_scores[i]))\n",
    "        print()\n",
    "        print(\"Red scores:\")\n",
    "        for i in range(len(self.r_scores)):\n",
    "            print(self.players[i].name() + \" \" + str(self.r_scores[i]))\n",
    "        print()\n",
    "\n",
    "\n",
    "if __name__ == \"__main__\":\n",
    "    print(\"+++ START +++\")\n",
    "    tournament = Tournament(5, 1)\n",
    "    with Parallel(n_jobs=-1,verbose=10,) as par:\n",
    "        for i in range(40):\n",
    "            print(\"ROUND: \" + str(i + 1))\n",
    "            tournament.play_round(par)\n",
    "    tournament.print_elo()\n",
    "    tournament.show_scores()\n"
   ]
  },
  {
   "cell_type": "code",
   "execution_count": 18,
   "metadata": {},
   "outputs": [
    {
     "name": "stdout",
     "output_type": "stream",
     "text": [
      "Mixed scores:\n",
      "Alpha Beta Random trueskill.Rating(mu=10.131, sigma=3.109)\n",
      "Alpha Beta Dijkstra Depth 4 trueskill.Rating(mu=34.738, sigma=1.564)\n",
      "Alpha Beta Dijkstra Depth 3 trueskill.Rating(mu=28.727, sigma=1.486)\n",
      "\n",
      "Blue scores:\n",
      "Alpha Beta Random trueskill.Rating(mu=45.670, sigma=2.498)\n",
      "Alpha Beta Dijkstra Depth 4 trueskill.Rating(mu=53.480, sigma=1.428)\n",
      "Alpha Beta Dijkstra Depth 3 trueskill.Rating(mu=52.066, sigma=1.596)\n",
      "\n",
      "Red scores:\n",
      "Alpha Beta Random trueskill.Rating(mu=44.693, sigma=2.290)\n",
      "Alpha Beta Dijkstra Depth 4 trueskill.Rating(mu=49.411, sigma=1.354)\n",
      "Alpha Beta Dijkstra Depth 3 trueskill.Rating(mu=49.750, sigma=1.560)\n",
      "\n"
     ]
    },
    {
     "name": "stderr",
     "output_type": "stream",
     "text": [
      "<ipython-input-18-4289d0bd7d04>:8: UserWarning: Matplotlib is currently using module://ipykernel.pylab.backend_inline, which is a non-GUI backend, so cannot show the figure.\n",
      "  fig.show()\n"
     ]
    },
    {
     "data": {
      "image/png": "[encoded data removed]",
      "text/plain": [
       "<Figure size 720x432 with 1 Axes>"
      ]
     },
     "metadata": {
      "needs_background": "light"
     },
     "output_type": "display_data"
    }
   ],
   "source": [
    "%matplotlib inline\n",
    "import matplotlib.pyplot as plt\n",
    "\n",
    "fig = plt.figure(figsize=(10,6))\n",
    "for idx, values in enumerate(tournament.player_ratings):\n",
    "    plt.plot(values, label=tournament.players[idx].name())\n",
    "fig.legend()\n",
    "fig.show()\n",
    "tournament.print_elo()"
   ]
  }
 ],
 "metadata": {
  "kernelspec": {
   "display_name": "Python 3",
   "language": "python",
   "name": "python3"
  },
  "language_info": {
   "codemirror_mode": {
    "name": "ipython",
    "version": 3
   },
   "file_extension": ".py",
   "mimetype": "text/x-python",
   "name": "python",
   "nbconvert_exporter": "python",
   "pygments_lexer": "ipython3",
   "version": "3.8.1"
  }
 },
 "nbformat": 4,
 "nbformat_minor": 4
}
